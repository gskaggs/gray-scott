{
 "cells": [
  {
   "cell_type": "code",
   "execution_count": 4,
   "metadata": {},
   "outputs": [],
   "source": [
    "def nth_digit_of_num(n, num):\n",
    "    num = str(num)\n",
    "    return int(num[n])\n",
    "\n",
    "def nth_digit_of_m_digit_num(n, m):\n",
    "    n -= 1\n",
    "    num = 10**(m-1) + n // m\n",
    "    return nth_digit_of_num(n % m, num)\n",
    "    \n",
    "\n",
    "def how_many_digits(n):\n",
    "    prev, cur = 0, 9\n",
    "    digits = 1\n",
    "    \n",
    "    while cur < n:\n",
    "        prev = cur\n",
    "        digits += 1\n",
    "        cur += digits * (10**digits - 10**(digits-1))\n",
    "        \n",
    "    return digits, n - prev\n",
    "\n",
    "\n",
    "class Solution(object):\n",
    "    \n",
    "    def findNthDigit(self, n):\n",
    "        \"\"\"\n",
    "        :type n: int\n",
    "        :rtype: int\n",
    "        \"\"\"\n",
    "        \n",
    "        digits, remaining = how_many_digits(n)\n",
    "        return nth_digit_of_m_digit_num(remaining, digits)"
   ]
  },
  {
   "cell_type": "code",
   "execution_count": 5,
   "metadata": {},
   "outputs": [],
   "source": [
    "s = Solution()\n"
   ]
  },
  {
   "cell_type": "code",
   "execution_count": 6,
   "metadata": {},
   "outputs": [
    {
     "data": {
      "text/plain": [
       "5"
      ]
     },
     "execution_count": 6,
     "metadata": {},
     "output_type": "execute_result"
    }
   ],
   "source": [
    "s.findNthDigit(100)"
   ]
  },
  {
   "cell_type": "code",
   "execution_count": null,
   "metadata": {},
   "outputs": [],
   "source": []
  }
 ],
 "metadata": {
  "kernelspec": {
   "display_name": "Python 3",
   "language": "python",
   "name": "python3"
  },
  "language_info": {
   "codemirror_mode": {
    "name": "ipython",
    "version": 3
   },
   "file_extension": ".py",
   "mimetype": "text/x-python",
   "name": "python",
   "nbconvert_exporter": "python",
   "pygments_lexer": "ipython3",
   "version": "3.8.3"
  }
 },
 "nbformat": 4,
 "nbformat_minor": 4
}
